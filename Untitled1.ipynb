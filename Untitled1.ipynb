{
  "nbformat": 4,
  "nbformat_minor": 0,
  "metadata": {
    "colab": {
      "provenance": [],
      "authorship_tag": "ABX9TyPkYeE+b9ydsEh1RbXhpVrp",
      "include_colab_link": true
    },
    "kernelspec": {
      "name": "python3",
      "display_name": "Python 3"
    },
    "language_info": {
      "name": "python"
    }
  },
  "cells": [
    {
      "cell_type": "markdown",
      "metadata": {
        "id": "view-in-github",
        "colab_type": "text"
      },
      "source": [
        "<a href=\"https://colab.research.google.com/github/lucioandreani/GitTutorial/blob/main/Untitled1.ipynb\" target=\"_parent\"><img src=\"https://colab.research.google.com/assets/colab-badge.svg\" alt=\"Open In Colab\"/></a>"
      ]
    },
    {
      "cell_type": "code",
      "execution_count": 1,
      "metadata": {
        "colab": {
          "base_uri": "https://localhost:8080/"
        },
        "id": "jrEPfclzTsdW",
        "outputId": "51167cb3-d63d-4552-94b5-3c9a85bd6bdb"
      },
      "outputs": [
        {
          "output_type": "stream",
          "name": "stdout",
          "text": [
            "fatal: destination path 'legume' already exists and is not an empty directory.\n"
          ]
        }
      ],
      "source": [
        "!git clone https://github.com/Zano1995/legume.git"
      ]
    },
    {
      "cell_type": "code",
      "source": [
        "%cd legume\n",
        "!git checkout symm_and_polariton\n",
        "%cd .."
      ],
      "metadata": {
        "colab": {
          "base_uri": "https://localhost:8080/"
        },
        "id": "E9Babv4XUIqP",
        "outputId": "d0ada1c9-162e-4d33-cb63-85d7cfa47bfa"
      },
      "execution_count": 1,
      "outputs": [
        {
          "output_type": "stream",
          "name": "stdout",
          "text": [
            "/content/legume\n",
            "Branch 'symm_and_polariton' set up to track remote branch 'symm_and_polariton' from 'origin'.\n",
            "Switched to a new branch 'symm_and_polariton'\n",
            "/content\n"
          ]
        }
      ]
    },
    {
      "cell_type": "code",
      "source": [
        "import sys\n",
        "sys.path.append(\"/content/legume\")\n",
        "import legume\n",
        "print(f\"Version of the imported legume : {legume.__version__}\")\n",
        "\n",
        "import numpy as np\n",
        "import matplotlib.pyplot as plt"
      ],
      "metadata": {
        "colab": {
          "base_uri": "https://localhost:8080/"
        },
        "id": "21sd2KrpVpKj",
        "outputId": "1fcd5445-b660-4e5d-d3ce-0fb65d90cb59"
      },
      "execution_count": 3,
      "outputs": [
        {
          "output_type": "stream",
          "name": "stdout",
          "text": [
            "Version of the imported legume : 1.0.0\n"
          ]
        }
      ]
    },
    {
      "cell_type": "code",
      "source": [
        "# Initialize a lattice (can be 'square', 'hexagonal', or defined by primitive vectors)\n",
        "lattice = legume.Lattice('square')\n",
        "\n",
        "# Initialize a layer with background permittivity 2\n",
        "layer = legume.ShapesLayer(lattice, eps_b=2)\n",
        "print(layer)\n",
        "\n",
        "# Create a square and use the `add_shape` method to add it to the layer\n",
        "square = legume.Square(eps=10, x_cent=0., y_cent=0, a=0.4)\n",
        "circle = legume.Circle(eps=20, x_cent=0., y_cent=0, r=0.3)\n",
        "layer.add_shape(circle)\n",
        "#layer.add_shape(square)\n",
        "\n",
        "#print(layer.shapes[1])\n",
        "#shape = layer.shapes[1]\n",
        "\n",
        "#print(shape)\n",
        "#print(type(shape))\n",
        "\n",
        "#print(layer.shapes[0].x_edges)\n",
        "#print(layer.shapes[0].y_edges)\n",
        "#print(square)\n",
        "#print(shape.x_edges)\n",
        "\n",
        "# Use an in-built visualization method to plot the contours of the shapes we have so far\n",
        "legume.viz.shapes(layer)\n",
        "#shapes(layer)"
      ],
      "metadata": {
        "colab": {
          "base_uri": "https://localhost:8080/",
          "height": 525
        },
        "id": "-Q5tQPbMXGBQ",
        "outputId": "ea22497e-771b-49b0-b6c7-eb7c3fc76e8c"
      },
      "execution_count": 67,
      "outputs": [
        {
          "output_type": "stream",
          "name": "stdout",
          "text": [
            "ShapesLayer(eps_b = 2.00, d = 0.00)\n"
          ]
        },
        {
          "output_type": "display_data",
          "data": {
            "text/plain": [
              "<Figure size 640x480 with 1 Axes>"
            ],
            "image/png": "[encoded data removed]"
          },
          "metadata": {}
        }
      ]
    },
    {
      "cell_type": "code",
      "source": [
        "\n",
        "def shapes(layer, ax=None, npts=101, color='k', lw=1, pad=True):\n",
        "    \"\"\"Plot all shapes of Layer\n",
        "    \"\"\"\n",
        "\n",
        "    (xext, yext) = layer.lattice.xy_grid(Nx=2, Ny=2)\n",
        "    if ax is None:\n",
        "        fig, ax = plt.subplots(1, constrained_layout=True)\n",
        "\n",
        "    if pad == True:\n",
        "        a1 = layer.lattice.a1\n",
        "        a2 = layer.lattice.a2\n",
        "        xy_p = [a1, -a1, a2, -a2]\n",
        "\n",
        "    print(layer.shapes)\n",
        "    for shape in layer.shapes:\n",
        "        print(shape)\n",
        "        print(type(shape))\n",
        "        if type(shape) == Circle:\n",
        "            print('sto plottando circle')\n",
        "            x = shape.x_cent\n",
        "            y = shape.y_cent\n",
        "            r = shape.r\n",
        "            .plot_circle(x, y, r, ax=ax, color=color, lw=lw, npts=npts)\n",
        "            #if pad == True:\n",
        "            #    for (x_p, y_p) in xy_p:\n",
        "            #        _plot_circle(x + x_p, y + y_p, r,\n",
        "            #                    ax=ax, color=color, lw=lw, npts=npts)\n",
        "        else:\n",
        "            print('sto plottando poly')\n",
        "            # Everything else should be a Poly subclass\n",
        "            ax.plot(shape.x_edges, shape.y_edges, c=color, lw=lw)\n",
        "            if pad == True:\n",
        "                for (x_p, y_p) in xy_p:\n",
        "                    ax.plot(shape.x_edges + x_p, shape.y_edges + y_p,\n",
        "                            c=color, lw=lw)\n",
        "    #xext, yext = 1, 1\n",
        "    ax.set_xlim(xext)\n",
        "    ax.set_ylim(yext)\n",
        "    ax.set_aspect('equal')\n"
      ],
      "metadata": {
        "colab": {
          "base_uri": "https://localhost:8080/",
          "height": 142
        },
        "id": "fZtjruyVcJ3k",
        "outputId": "c2740f6d-8f8d-4326-8eff-3b3ea637799e"
      },
      "execution_count": 62,
      "outputs": [
        {
          "output_type": "error",
          "ename": "SyntaxError",
          "evalue": "ignored",
          "traceback": [
            "\u001b[0;36m  File \u001b[0;32m\"<ipython-input-62-eeda7bf25fa5>\"\u001b[0;36m, line \u001b[0;32m23\u001b[0m\n\u001b[0;31m    .plot_circle(x, y, r, ax=ax, color=color, lw=lw, npts=npts)\u001b[0m\n\u001b[0m    ^\u001b[0m\n\u001b[0;31mSyntaxError\u001b[0m\u001b[0;31m:\u001b[0m invalid syntax\n"
          ]
        }
      ]
    },
    {
      "cell_type": "code",
      "source": [
        "# Initialize a lattice (can be 'square', 'hexagonal', or defined by primitive vectors)\n",
        "lattice = legume.Lattice('hexagonal')\n",
        "\n",
        "# Initialize a layer with background permittivity 2\n",
        "layer = legume.ShapesLayer(lattice, eps_b=2)\n",
        "\n",
        "# Create a square and use the `add_shape` method to add it to the layer\n",
        "square = legume.Square(eps=10, x_cent=0, y_cent=0, a=0.3)\n",
        "layer.add_shape(square)\n",
        "\n",
        "# Create a circle and also add it to the layer\n",
        "circle = legume.Circle(eps=6, x_cent=0.5, y_cent=0.3, r=0.2)\n",
        "layer.add_shape(circle)\n",
        "\n",
        "# Use an in-built visualization method to plot the contours of the shapes we have so far\n",
        "legume.viz.shapes(layer)"
      ],
      "metadata": {
        "colab": {
          "base_uri": "https://localhost:8080/",
          "height": 264
        },
        "id": "7f0iCCqbU6Gw",
        "outputId": "ed6c7c90-892b-4711-e2a2-a351e428cb09"
      },
      "execution_count": 4,
      "outputs": [
        {
          "output_type": "error",
          "ename": "AttributeError",
          "evalue": "ignored",
          "traceback": [
            "\u001b[0;31m---------------------------------------------------------------------------\u001b[0m",
            "\u001b[0;31mAttributeError\u001b[0m                            Traceback (most recent call last)",
            "\u001b[0;32m<ipython-input-4-f9dd9799fdde>\u001b[0m in \u001b[0;36m<cell line: 2>\u001b[0;34m()\u001b[0m\n\u001b[1;32m      1\u001b[0m \u001b[0;31m# Initialize a lattice (can be 'square', 'hexagonal', or defined by primitive vectors)\u001b[0m\u001b[0;34m\u001b[0m\u001b[0;34m\u001b[0m\u001b[0m\n\u001b[0;32m----> 2\u001b[0;31m \u001b[0mlattice\u001b[0m \u001b[0;34m=\u001b[0m \u001b[0mlegume\u001b[0m\u001b[0;34m.\u001b[0m\u001b[0mLattice\u001b[0m\u001b[0;34m(\u001b[0m\u001b[0;34m'hexagonal'\u001b[0m\u001b[0;34m)\u001b[0m\u001b[0;34m\u001b[0m\u001b[0;34m\u001b[0m\u001b[0m\n\u001b[0m\u001b[1;32m      3\u001b[0m \u001b[0;34m\u001b[0m\u001b[0m\n\u001b[1;32m      4\u001b[0m \u001b[0;31m# Initialize a layer with background permittivity 2\u001b[0m\u001b[0;34m\u001b[0m\u001b[0;34m\u001b[0m\u001b[0m\n\u001b[1;32m      5\u001b[0m \u001b[0mlayer\u001b[0m \u001b[0;34m=\u001b[0m \u001b[0mlegume\u001b[0m\u001b[0;34m.\u001b[0m\u001b[0mShapesLayer\u001b[0m\u001b[0;34m(\u001b[0m\u001b[0mlattice\u001b[0m\u001b[0;34m,\u001b[0m \u001b[0meps_b\u001b[0m\u001b[0;34m=\u001b[0m\u001b[0;36m2\u001b[0m\u001b[0;34m)\u001b[0m\u001b[0;34m\u001b[0m\u001b[0;34m\u001b[0m\u001b[0m\n",
            "\u001b[0;31mAttributeError\u001b[0m: module 'legume' has no attribute 'Lattice'"
          ]
        }
      ]
    }
  ]
}